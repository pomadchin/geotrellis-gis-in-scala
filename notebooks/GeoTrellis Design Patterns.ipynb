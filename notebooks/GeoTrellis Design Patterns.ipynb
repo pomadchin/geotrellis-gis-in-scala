{
 "cells": [
  {
   "cell_type": "markdown",
   "metadata": {},
   "source": [
    "# GeoTrellis, GIS на Scala и некоторые паттерны проекта "
   ]
  },
  {
   "cell_type": "markdown",
   "metadata": {},
   "source": [
    "# Производительность"
   ]
  },
  {
   "cell_type": "code",
   "execution_count": 4,
   "metadata": {
    "collapsed": true
   },
   "outputs": [],
   "source": [
    "/** This method will be used in the performance section\n",
    "  * to produce timing results.\n",
    "  */\n",
    "def time(msg: String)(f: => Unit): Unit = {\n",
    "    val s = System.currentTimeMillis\n",
    "    f\n",
    "    println(s\"[$msg] Took: ${System.currentTimeMillis - s} ms\")\n",
    "}"
   ]
  },
  {
   "cell_type": "markdown",
   "metadata": {},
   "source": [
    "### Макросы"
   ]
  },
  {
   "cell_type": "markdown",
   "metadata": {},
   "source": [
    "К примеру, часто при работе с тайлами требуется обходить все пиксели, и для этого используется макрос `cfor`. Большинство важных операций над снимками сводятся к итерации по пикселям и это тратит много процессорного времени, поэтому везде используется `while` или / и `cfor`:\n",
    "\n",
    "```scala\n",
    "cfor(0)(_ < rows, _ + 1) { row =>\n",
    "  cfor(0)(_ < cols, _ + 1) { col =>\n",
    "    var count = 0\n",
    "    var sum = 0.0\n",
    "    cfor(0)(_ < layerCount, _ + 1) { i =>\n",
    "      val v = rs(i).getDouble(col, row)\n",
    "      if(isData(v)) {\n",
    "        count += 1\n",
    "        sum += v\n",
    "      }\n",
    "    }\n",
    "\n",
    "    if(count > 0) {\n",
    "      tile.setDouble(col, row, sum/count)\n",
    "    } else {\n",
    "      tile.setDouble(col, row, Double.NaN)\n",
    "    }\n",
    "  }\n",
    "}\n",
    "```\n",
    "[Source](https://github.com/locationtech/geotrellis/blob/a00c35b928e96083188d91734252d66574e3b4a7/raster/src/main/scala/geotrellis/raster/mapalgebra/local/Mean.scala#L44-L62)\n",
    "\n",
    "Приходится работать мутабельно, и делать иммутабельный API."
   ]
  },
  {
   "cell_type": "code",
   "execution_count": 12,
   "metadata": {
    "collapsed": false
   },
   "outputs": [
    {
     "name": "stdout",
     "output_type": "stream",
     "text": [
      "[Using foreach over a range] Took: 3468 ms\n",
      "[using a while loop] Took: 433 ms\n",
      "[spire's cfor macro] Took: 422 ms\n"
     ]
    }
   ],
   "source": [
    "val len = 1000000000\n",
    "time(\"Using foreach over a range\") {\n",
    "    var x = 0\n",
    "    for(i <- 0 until len) {\n",
    "        x += i\n",
    "    }\n",
    "}\n",
    "\n",
    "time(\"using a while loop\") {\n",
    "    var x = 0\n",
    "    var i = 0\n",
    "    while(i < len) {\n",
    "        x += i\n",
    "        i += 1\n",
    "    }\n",
    "}\n",
    "\n",
    "import spire.syntax.cfor._\n",
    "\n",
    "time(\"spire's cfor macro\") {\n",
    "    var x = 0\n",
    "    cfor(0)(_ < len, _ + 1) { i =>\n",
    "        x += i\n",
    "    }\n",
    "}"
   ]
  },
  {
   "cell_type": "code",
   "execution_count": 6,
   "metadata": {
    "collapsed": false
   },
   "outputs": [
    {
     "data": {
      "text/plain": [
       "object scala.Unit"
      ]
     },
     "execution_count": 6,
     "metadata": {},
     "output_type": "execute_result"
    }
   ],
   "source": [
    "def tileMeanScope = {\n",
    "    import geotrellis.raster._\n",
    "    \n",
    "    val tiles: Seq[Tile] = ???\n",
    "    val result: Tile = tiles.localMean\n",
    "}\n",
    "\n",
    "Unit"
   ]
  },
  {
   "cell_type": "markdown",
   "metadata": {},
   "source": [
    "В критически важных местах используется наибыстрейший, мутабельный, страшный код, который приходится скрывать за хорошим API."
   ]
  },
  {
   "cell_type": "markdown",
   "metadata": {},
   "source": [
    "#### Макрос для инлайна перегрузок в важных для производительности случаях сравнения\n",
    "\n",
    "В растровых данных имеется такое понятие как NoData, которое буквально значит отсутсвие данных.\n",
    "Во многих алгоритмах требуется не брать в учет значения NoData клеток (большинство), т.к. это не совсем валидные данные; и наоборот, неоторые требуют только преобразования NoData значений.\n",
    "По умолчанию, `Int.MinValue` -- NoData для Int, и `Double.NaN` для Double.\n",
    "\n",
    "```scala\n",
    "val i: Int = ???\n",
    "val d: Double = ???\n",
    "\n",
    "if(i == NODATA) { /* This is NoData. NODATA is a val equal to Int.MinValue */ }\n",
    "if(java.lang.Double.isNaN(d)) { /* This is NoData */ }\n",
    "```\n",
    "\n",
    "В ранних версиях было множество API проблема с проверкой данных на NoData:\n",
    "\n",
    "```scala\n",
    "val x: Double = ???\n",
    "val y: Int = ???\n",
    "\n",
    "if(x == NODATA) { /* WRONG! */ }\n",
    "if(java.lang.Double.isNaN(y)) { /* WRONG! */ }\n",
    "```\n",
    "\n",
    "Или\n",
    "```scala\n",
    "val d: Double = Double.NaN\n",
    "if(d == Double.NaN) { /* Nope, never gonna happen */ }\n",
    "```\n",
    "\n",
    "Логичное решение - это перегрузка функций (одни для Int, другие для Double). Но перегрузка не эффективна в плане производительности:"
   ]
  },
  {
   "cell_type": "code",
   "execution_count": 10,
   "metadata": {
    "collapsed": false
   },
   "outputs": [
    {
     "name": "stdout",
     "output_type": "stream",
     "text": [
      "[Ints: constant check] Took: 33 ms\n",
      "[Ints: overloaded method] Took: 67 ms\n",
      "[Doubles: java.lang.Double.isNaN] Took: 35 ms\n",
      "[Doubles: overloaded method] Took: 74 ms\n"
     ]
    }
   ],
   "source": [
    "object NoData {\n",
    "    def isNoData(v: Int): Boolean = v == Int.MinValue\n",
    "    def isNoData(v: Double): Boolean = java.lang.Double.isNaN(v)\n",
    "}\n",
    "\n",
    "time(\"Ints: constant check\") { \n",
    "    var i = 0\n",
    "    while(i < 10000000) {\n",
    "        if(i != Int.MinValue) { i += 1 }\n",
    "    }\n",
    "}\n",
    "\n",
    "time(\"Ints: overloaded method\") { \n",
    "    var i = 0\n",
    "    while(i < 10000000) {\n",
    "        if(!NoData.isNoData(i)) { i += 1 }\n",
    "    }\n",
    "}\n",
    "\n",
    "time(\"Doubles: java.lang.Double.isNaN\") {\n",
    "   var i = 0.0\n",
    "    while(i < 10000000.0) {\n",
    "        if(!java.lang.Double.isNaN(i)) { i += 1.0 }\n",
    "    }\n",
    "}\n",
    "\n",
    "time(\"Doubles: overloaded method\") {\n",
    "   var i = 0.0\n",
    "    while(i < 10000000.0) {\n",
    "        if(!NoData.isNoData(i)) { i += 1.0 }\n",
    "    }\n",
    "}"
   ]
  },
  {
   "cell_type": "markdown",
   "metadata": {},
   "source": [
    "Проверка против константы или прямой вызов не перегруженного метода производит горадоа меньше байткода который надо будет выполнить JVM нежели перегруженого метода, который должен сделать лукап в VTable. Макросы опять помогают, можно заинлайнить функции:"
   ]
  },
  {
   "cell_type": "code",
   "execution_count": 11,
   "metadata": {
    "collapsed": false
   },
   "outputs": [
    {
     "name": "stdout",
     "output_type": "stream",
     "text": [
      "[Ints: constant check] Took: 3 ms\n",
      "[Ints: isNoData macro] Took: 3 ms\n",
      "[Doubles: java.lang.Double.isNaN] Took: 35 ms\n",
      "[Doubles: isNoData macro] Took: 34 ms\n"
     ]
    }
   ],
   "source": [
    "import geotrellis.raster._\n",
    "\n",
    "time(\"Ints: constant check\") { \n",
    "    var i = 0\n",
    "    while(i < 10000000) {\n",
    "        if(i != Int.MinValue) { i += 1 }\n",
    "    }\n",
    "}\n",
    "\n",
    "time(\"Ints: isNoData macro\") { \n",
    "    var i = 0\n",
    "    while(i < 10000000) {\n",
    "        if(!isNoData(i)) { i += 1 }\n",
    "    }\n",
    "}\n",
    "\n",
    "time(\"Doubles: java.lang.Double.isNaN\") {\n",
    "   var i = 0.0\n",
    "    while(i < 10000000.0) {\n",
    "        if(!java.lang.Double.isNaN(i)) { i += 1.0 }\n",
    "    }\n",
    "}\n",
    "\n",
    "time(\"Doubles: isNoData macro\") {\n",
    "   var i = 0.0\n",
    "    while(i < 10000000.0) {\n",
    "        if(!isNoData(i)) { i += 1.0 }\n",
    "    }\n",
    "}"
   ]
  },
  {
   "cell_type": "markdown",
   "metadata": {},
   "source": [
    "Макрос просто инлайнит проверку на вызывающей стороне. Если кто-то еще не трогал макросы и не знает как оно работает, то это то самое с чего можно.\n",
    "\n",
    "In [macros/src/main/scala/geotrellis/macros/NoDataMacros.scala](https://github.com/locationtech/geotrellis/blob/a00c35b928e96083188d91734252d66574e3b4a7/macros/src/main/scala/geotrellis/macros/NoDataMacros.scala#L16-L19)\n",
    "```scala\n",
    "object NoDataMacros {\n",
    "  // ...\n",
    "\n",
    "  def isNoDataInt_impl(ct: Context)(i: ct.Expr[Int]): ct.Expr[Boolean] = {\n",
    "    import ct.universe._\n",
    "    ct.Expr(q\"\"\"$i == Int.MinValue\"\"\")\n",
    "  }\n",
    "\n",
    "  // ...\n",
    "}\n",
    "```\n",
    "\n",
    "In [raster/src/main/scala/geotrellis/raster/package.scala](https://github.com/locationtech/geotrellis/blob/a00c35b928e96083188d91734252d66574e3b4a7/raster/src/main/scala/geotrellis/raster/package.scala#L162)\n",
    "```scala\n",
    "package object raster {\n",
    "  // ...\n",
    "  \n",
    "  def isNoData(i: Int): Boolean = macro NoDataMacros.isNoDataInt_impl\n",
    "\n",
    "  // ...\n",
    "}\n",
    "```\n"
   ]
  },
  {
   "cell_type": "markdown",
   "metadata": {},
   "source": [
    "#### Макросы, чтобы решить проблему специализации FunctionN которая не специализируется при N > 2\n",
    "\n",
    "Функции типа `{ x: Int => x + 1 }` _специализируются_ (нет boxing'a примитивов). Пример: вызов `def foo[T](x: T)` на типе `Double`, примтив `Double` будет \"упакованы??\" в тип Object перед применением к функции, и \"разупакован??\" внутри функции. Это вызывает серьезное падение прозиводительнсти, подробнее можно почитать [тут](https://en.wikipedia.org/wiki/Object_type_%28object-oriented_programming%29#Boxing).\n",
    "\n",
    "Функции типа `{ (x: Int, y: Int, z: Int) => x + y + z }` не специализируются.\n",
    "\n",
    "Для приемра, определим `map` для типа `Tile`:\n"
   ]
  },
  {
   "cell_type": "code",
   "execution_count": 15,
   "metadata": {
    "collapsed": false,
    "scrolled": true
   },
   "outputs": [],
   "source": [
    "def map(tile: Tile)(f: Int => Int): Tile = {\n",
    "    val result: MutableArrayTile = ArrayTile.alloc(IntCellType, 1500, 1600)\n",
    "    cfor(0)(_ < tile.rows, _  + 1) { row =>\n",
    "        cfor(0)(_ < tile.cols, _ + 1) { col =>\n",
    "            result.set(col, row, f(tile.get(col, row)))\n",
    "        }\n",
    "    }\n",
    "    result\n",
    "}"
   ]
  },
  {
   "cell_type": "markdown",
   "metadata": {},
   "source": [
    "сравним с другой функцией которая в качестве аргмуента будет иметь функцию `(Int, Int, Int) => Int`:"
   ]
  },
  {
   "cell_type": "code",
   "execution_count": 16,
   "metadata": {
    "collapsed": true
   },
   "outputs": [],
   "source": [
    "def map2(tile: Tile)(f: (Int, Int, Int) => Int): Tile = {\n",
    "    val result: MutableArrayTile = ArrayTile.alloc(IntCellType, 1500, 1600)\n",
    "    cfor(0)(_ < tile.rows, _  + 1) { row =>\n",
    "        cfor(0)(_ < tile.cols, _ + 1) { col =>\n",
    "            result.set(col, row, f(col, row, tile.get(col, row)))\n",
    "        }\n",
    "    }\n",
    "    result\n",
    "}"
   ]
  },
  {
   "cell_type": "markdown",
   "metadata": {},
   "source": [
    "`Function1` быстрее `Function3` во много раз."
   ]
  },
  {
   "cell_type": "code",
   "execution_count": 17,
   "metadata": {
    "collapsed": false
   },
   "outputs": [
    {
     "name": "stdout",
     "output_type": "stream",
     "text": [
      "[Function1] Took: 52 ms\n",
      "[Function3] Took: 726 ms\n"
     ]
    }
   ],
   "source": [
    "import geotrellis.raster._\n",
    "\n",
    "val tile = ArrayTile(Array.ofDim[Int](1500 * 1600).fill(scala.util.Random.nextInt), 1500, 1600)\n",
    "\n",
    "time(\"Function1\") { \n",
    "    map(tile) { z => z + 1 }\n",
    "}\n",
    "\n",
    "time(\"Function3\") { \n",
    "    map2(tile) { (col, row, z) => col * row * z + 1 }\n",
    "}"
   ]
  },
  {
   "cell_type": "markdown",
   "metadata": {},
   "source": [
    "Увидеть что Function3 не специализирована можно тут:\n",
    "- https://github.com/scala/scala/blob/v2.12.0/src/library/scala/Function1.scala#L32\n",
    "- https://github.com/scala/scala/blob/v2.12.0/src/library/scala/Function3.scala#L16\n",
    "\n",
    "Как вариант можно делать так:"
   ]
  },
  {
   "cell_type": "code",
   "execution_count": 19,
   "metadata": {
    "collapsed": true
   },
   "outputs": [],
   "source": [
    "trait Mapper { def apply(col: Int, row: Int, z: Int): Int }\n",
    "def map3(tile: Tile)(f: Mapper): Tile = {\n",
    "    val result: MutableArrayTile = ArrayTile.alloc(IntCellType, 1500, 1600)\n",
    "    cfor(0)(_ < tile.rows, _  + 1) { row =>\n",
    "        cfor(0)(_ < tile.cols, _ + 1) { col =>\n",
    "            result.set(col, row, f(col, row, tile.get(col, row)))\n",
    "        }\n",
    "    }\n",
    "    result\n",
    "}"
   ]
  },
  {
   "cell_type": "code",
   "execution_count": 20,
   "metadata": {
    "collapsed": false
   },
   "outputs": [
    {
     "name": "stdout",
     "output_type": "stream",
     "text": [
      "[Function1] Took: 107 ms\n",
      "[Function3] Took: 205 ms\n",
      "[Mapper Trait] Took: 111 ms\n"
     ]
    }
   ],
   "source": [
    "time(\"Function1\") { \n",
    "    map(tile) { z => z + 1 }\n",
    "}\n",
    "\n",
    "time(\"Function3\") { \n",
    "    map2(tile) { (col, row, z) => col * row * z + 1 }\n",
    "}\n",
    "\n",
    "time(\"Mapper Trait\") { \n",
    "    map3(tile)(new Mapper { def apply(col: Int, row: Int, z: Int): Int = col * row * z + 1 })\n",
    "}"
   ]
  },
  {
   "cell_type": "markdown",
   "metadata": {},
   "source": [
    "Все потому что в слуае использования трейта Mapper мы попадаем в вызов `Function1`; мы избежали боксинга типов, но API получился никакой.\n",
    "\n",
    "Что хочется (и как это реализовано):"
   ]
  },
  {
   "cell_type": "code",
   "execution_count": 21,
   "metadata": {
    "collapsed": false
   },
   "outputs": [
    {
     "name": "stdout",
     "output_type": "stream",
     "text": [
      "[Tile map with Function1] Took: 110 ms\n",
      "[Tile map with Function3] Took: 79 ms\n"
     ]
    }
   ],
   "source": [
    "time(\"Tile map with Function1\") {\n",
    "    tile.map { z => z + 1 }\n",
    "}\n",
    "\n",
    "time(\"Tile map with Function3\") {\n",
    "    tile.map { (col, row, z) => col * row * z + 1 }\n",
    "}"
   ]
  },
  {
   "cell_type": "markdown",
   "metadata": {
    "collapsed": false
   },
   "source": [
    "В макросе [macros/src/main/scala/geotrellis/macros/TileMacros.scala](https://github.com/locationtech/geotrellis/blob/v1.0.0/macros/src/main/scala/geotrellis/macros/TileMacros.scala#L12-L19), определяется трейт, который определяет нужные методы:\n",
    "```scala\n",
    "trait MacroMappableTile[T] {\n",
    "  def mapIntMapper(mapper: IntTileMapper): T\n",
    "  def mapDoubleMapper(mapper: DoubleTileMapper): T\n",
    "}\n",
    "```\n",
    "\n",
    "также `Mapper` , похожий на тот, что определен сверху:\n",
    "\n",
    "```scala\n",
    "trait IntTileMapper {\n",
    "  def apply(col: Int, row: Int, z: Int): Int\n",
    "}\n",
    "```\n",
    "\n",
    "Можно использовать макрос, который будет инлайнить колл Function3 в apply метод анонимного инстанса `IntTileMapper` ([source](https://github.com/locationtech/geotrellis/blob/v1.0.0/macros/src/main/scala/geotrellis/macros/TileMacros.scala#L34-L39)):\n",
    "\n",
    "```scala\n",
    "object TileMacros {\n",
    "  def intMap_impl[T <: MacroMappableTile[T]](c: Context)(f: c.Expr[(Int, Int, Int) => Int]): c.Expr[T] = {\n",
    "    import c.universe._\n",
    "    val self = c.Expr[MacroMappableTile[T]](c.prefix.tree)\n",
    "    val tree = q\"\"\"$self.mapIntMapper(new geotrellis.macros.IntTileMapper { def apply(col: Int, row: Int, z: Int): Int = $f(col, row, z) })\"\"\"\n",
    "    new InlineUtil[c.type](c).inlineAndReset[T](tree)\n",
    "  }\n",
    "  \n",
    "  // ...\n",
    "}\n",
    "```\n",
    "\n",
    "Опять используется функциональность `spire`, эту функцию для инлайна они используют у себя.\n",
    "\n",
    "Ссылка на нас [raster/src/main/scala/geotrellis/raster/MappableTile.scala](https://github.com/locationtech/geotrellis/blob/v1.0.0/raster/src/main/scala/geotrellis/raster/MappableTile.scala)\n",
    "\n",
    "```scala\n",
    "\n",
    "trait MappableTile[T <: MappableTile[T]] extends MacroMappableTile[T] {\n",
    "\n",
    "  /**\n",
    "    * Map over the tiles using a function which accepts the column,\n",
    "    * row, and value at that position and returns an integer.\n",
    "    */\n",
    "  def map(f: (Int, Int, Int) => Int): T =\n",
    "    macro TileMacros.intMap_impl[T]\n",
    "\n",
    "  // ... \n",
    "}\n",
    "```\n",
    "\n",
    "трейт, который реализуется типом `Tile`. Т.к. `Tile` наследует MacroMappableTile, надо иметь реализации map функций для трейтов, пример реализации [raster/src/main/scala/geotrellis/raster/ArrayTile.scala](https://github.com/locationtech/geotrellis/blob/v1.0.0/raster/src/main/scala/geotrellis/raster/ArrayTile.scala#L165-L173)\n",
    "\n",
    "```scala\n",
    "trait ArrayTile extends Tile with Serializable {\n",
    "  // ...\n",
    "  \n",
    "  def mapIntMapper(mapper: IntTileMapper): Tile = {\n",
    "    val tile = ArrayTile.alloc(cellType, cols, rows)\n",
    "    cfor(0)(_ < rows, _ + 1) { row =>\n",
    "      cfor(0)(_ < cols, _ + 1) { col =>\n",
    "        tile.set(col, row, mapper(col, row, get(col, row)))\n",
    "      }\n",
    "    }\n",
    "    tile\n",
    "  }\n",
    "  \n",
    "  // ...\n",
    "}\n",
    "```\n"
   ]
  },
  {
   "cell_type": "markdown",
   "metadata": {},
   "source": [
    "# Организация проектов"
   ]
  },
  {
   "cell_type": "markdown",
   "metadata": {},
   "source": [
    "### Проблематика\n",
    "\n",
    "Есть какие-то основные типы, и куча операций на них. Вокруг `Tile` типа есть огромное количество операций: алгебра, стастикика, и т.п. Как все это организовать?\n",
    "\n",
    "### Решение\n",
    "\n",
    "#### Всунуть все в один файл\n",
    "\n",
    "<Кривая рожа>.\n",
    "\n",
    "#### Все распределить по object'ам\n",
    "\n",
    "Например так:\n"
   ]
  },
  {
   "cell_type": "code",
   "execution_count": 30,
   "metadata": {
    "collapsed": false
   },
   "outputs": [
    {
     "data": {
      "text/plain": [
       "object scala.Unit"
      ]
     },
     "execution_count": 30,
     "metadata": {},
     "output_type": "execute_result"
    }
   ],
   "source": [
    "import geotrellis.raster.Tile \n",
    "\n",
    "object LocalOperations {\n",
    "    def add(tile1: Tile, tile2: Tile): Tile = ???\n",
    "    def add(tile: Tile, c: Int): Tile = ???\n",
    "    def subtract(tile1: Tile, tile2: Tile): Tile = ???\n",
    "    def subtract(tile: Tile, c: Int): Tile = ???\n",
    "    def multiply(tile1: Tile, tile2: Tile): Tile = ???\n",
    "    def multiply(tile: Tile, c: Int): Tile = ???\n",
    "    def divide(tile1: Tile, tile2: Tile): Tile = ???\n",
    "    def divide(tile: Tile, c: Int): Tile = ???\n",
    "}\n",
    "\n",
    "def foo: Tile = {\n",
    "    val tile1: Tile = ???\n",
    "    val tile2: Tile = ???\n",
    "\n",
    "    import LocalOperations._\n",
    "\n",
    "    divide(subtract(tile1, tile2), add(tile1, tile2))\n",
    "}\n",
    "\n",
    "Unit"
   ]
  },
  {
   "cell_type": "markdown",
   "metadata": {},
   "source": [
    "Решение, но не красивое с точки зрения API.\n",
    "Можно использовать implicit class'ы!"
   ]
  },
  {
   "cell_type": "code",
   "execution_count": 31,
   "metadata": {
    "collapsed": false
   },
   "outputs": [
    {
     "data": {
      "text/plain": [
       "object scala.Unit"
      ]
     },
     "execution_count": 31,
     "metadata": {},
     "output_type": "execute_result"
    }
   ],
   "source": [
    "trait Tile2 extends geotrellis.raster.Tile\n",
    "\n",
    "object LocalOperations {\n",
    "    def add(tile1: Tile2, tile2: Tile2): Tile2 = ???\n",
    "    def add(tile: Tile2, c: Int): Tile2 = ???\n",
    "    def subtract(tile1: Tile2, tile2: Tile2): Tile2 = ???\n",
    "    def subtract(tile: Tile2, c: Int): Tile2 = ???\n",
    "    def multiply(tile1: Tile2, tile2: Tile2): Tile2 = ???\n",
    "    def multiply(tile: Tile2, c: Int): Tile2 = ???\n",
    "    def divide(tile1: Tile2, tile2: Tile2): Tile2 = ???\n",
    "    def divide(tile: Tile2, c: Int): Tile2 = ???\n",
    "}\n",
    "\n",
    "\n",
    "implicit class withLocalOperationMethods(val self: Tile2) {\n",
    "    import LocalOperations._\n",
    "    \n",
    "    def +(other: Tile2): Tile2 = add(self, other)\n",
    "    def +(c: Int): Tile2 = add(self, c)\n",
    "    def -(other: Tile2): Tile2 = subtract(self, other)\n",
    "    def -(c: Int): Tile2 = subtract(self, c)\n",
    "    def *(other: Tile2): Tile2 = multiply(self, other)\n",
    "    def *(c: Int): Tile2 = multiply(self, c)\n",
    "    def /(other: Tile2): Tile2 = divide(self, other)\n",
    "    def /(c: Int): Tile2 = divide(self, c)\n",
    "}\n",
    "\n",
    "def foo: Tile2 = {\n",
    "    val tile1: Tile2 = ???\n",
    "    val tile2: Tile2 = ???\n",
    "\n",
    "   (tile1 - tile2) /  (tile1 + tile2)\n",
    "}\n",
    "\n",
    "Unit"
   ]
  },
  {
   "cell_type": "markdown",
   "metadata": {},
   "source": [
    "Таких операций может быть больше (так и есть), \n",
    "можно даже дальше переорганизовать все методы таким образом, чтобы `LocalOperations` наследовал все трейты с общей функциональностью."
   ]
  },
  {
   "cell_type": "code",
   "execution_count": 40,
   "metadata": {
    "collapsed": false
   },
   "outputs": [
    {
     "data": {
      "text/plain": [
       "object scala.Unit"
      ]
     },
     "execution_count": 40,
     "metadata": {},
     "output_type": "execute_result"
    }
   ],
   "source": [
    "trait Tile2 extends geotrellis.raster.Tile\n",
    "\n",
    "object LocalAdd {\n",
    "    def apply(tile1: Tile2, tile2: Tile2): Tile2 = ???\n",
    "    def apply(tile: Tile2, c: Int): Tile2 = ???\n",
    "}\n",
    "\n",
    "trait LocalAddMethods {\n",
    "    def self: Tile2\n",
    "    \n",
    "    def +(other: Tile2): Tile2 = LocalAdd(self, other)\n",
    "    def +(c: Int): Tile2 = LocalAdd(self, c)\n",
    "}\n",
    "\n",
    "object LocalSubtract {\n",
    "    def apply(tile1: Tile2, tile2: Tile2): Tile2 = ???\n",
    "    def apply(tile: Tile2, c: Int): Tile2 = ???\n",
    "}\n",
    "\n",
    "trait LocalSubtractMethods {\n",
    "    def self: Tile2\n",
    "    \n",
    "    def -(other: Tile2): Tile2 = LocalSubtract(self, other)\n",
    "    def -(c: Int): Tile2 = LocalSubtract(self, c)   \n",
    "}\n",
    "\n",
    "object LocalMultiply {\n",
    "    def apply(tile1: Tile2, tile2: Tile2): Tile2 = ???\n",
    "    def apply(tile: Tile2, c: Int): Tile2 = ???\n",
    "}\n",
    "\n",
    "trait LocalMultiplyMethods {\n",
    "    def self: Tile2\n",
    "\n",
    "    def *(other: Tile2): Tile2 = LocalMultiply(self, other)\n",
    "    def *(c: Int): Tile2 = LocalMultiply(self, c)\n",
    "}\n",
    "\n",
    "object LocalDivide {\n",
    "    def apply(tile1: Tile2, tile2: Tile2): Tile2 = ???\n",
    "    def apply(tile: Tile2, c: Int): Tile2 = ???\n",
    "}\n",
    "\n",
    "trait LocalDivideMethods {\n",
    "    def self: Tile2\n",
    "\n",
    "    def /(other: Tile2): Tile2 = LocalDivide(self, other)\n",
    "    def /(c: Int): Tile2 = LocalDivide(self, c)\n",
    "}\n",
    "\n",
    "object LocalOperations {\n",
    "    implicit class withLocalOperationMethods(val self: Tile2)\n",
    "        extends LocalAddMethods\n",
    "        with LocalSubtractMethods\n",
    "        with LocalMultiplyMethods\n",
    "        with LocalDivideMethods\n",
    "}\n",
    "\n",
    "def foo: Tile2 = {\n",
    "    import LocalOperations._\n",
    "\n",
    "    val tile1: Tile2 = ???\n",
    "    val tile2: Tile2 = ???\n",
    "\n",
    "   (tile1 - tile2) /  (tile1 + tile2)\n",
    "}\n",
    "\n",
    "Unit"
   ]
  },
  {
   "cell_type": "markdown",
   "metadata": {},
   "source": [
    "К тому же у всех методов есть self `withLocalOperationMethods`, потому можно ввести такой трейт `MethodExtensions`:\n",
    "\n",
    "```scala\n",
    "/**\n",
    "  * The base-trait from which all implicit classes containing\n",
    "  * extension methods are derived.\n",
    "  */\n",
    "trait MethodExtensions[+T] extends Serializable {\n",
    "  def self: T\n",
    "}\n",
    "```\n",
    "[Source](https://github.com/locationtech/geotrellis/blob/v1.0.0/util/src/main/scala/geotrellis/util/MethodExtensions.scala)\n",
    "\n",
    "Получается такой паттерн:"
   ]
  },
  {
   "cell_type": "code",
   "execution_count": null,
   "metadata": {
    "collapsed": false
   },
   "outputs": [],
   "source": [
    "import geotrellis.util.MethodExtensions\n",
    "\n",
    "object LocalOperations {\n",
    "    object LocalAdd {\n",
    "        def apply(tile1: Tile2, tile2: Tile2): Tile2 = ???\n",
    "        def apply(tile: Tile2, c: Int): Tile2 = ???\n",
    "    }\n",
    "\n",
    "    trait LocalAddMethods extends MethodExtensions[Tile2] {\n",
    "        def +(other: Tile2): Tile2 = LocalAdd(self, other)\n",
    "        def +(c: Int): Tile2 = LocalAdd(self, c)\n",
    "    }\n",
    "\n",
    "    object LocalSubtract {\n",
    "        def apply(tile1: Tile2, tile2: Tile2): Tile2 = ???\n",
    "        def apply(tile: Tile2, c: Int): Tile2 = ???\n",
    "    }\n",
    "\n",
    "    trait LocalSubtractMethods extends MethodExtensions[Tile2] {   \n",
    "        def -(other: Tile2): Tile2 = LocalSubtract(self, other)\n",
    "        def -(c: Int): Tile2 = LocalSubtract(self, c)   \n",
    "    }\n",
    "\n",
    "    object LocalMultiply {\n",
    "        def apply(tile1: Tile2, tile2: Tile2): Tile2 = ???\n",
    "        def apply(tile: Tile2, c: Int): Tile2 = ???\n",
    "    }\n",
    "\n",
    "    trait LocalMultiplyMethods extends MethodExtensions[Tile2] {\n",
    "        def *(other: Tile2): Tile2 = LocalMultiply(self, other)\n",
    "        def *(c: Int): Tile2 = LocalMultiply(self, c)\n",
    "    }\n",
    "\n",
    "    object LocalDivide {\n",
    "        def apply(tile1: Tile2, tile2: Tile2): Tile2 = ???\n",
    "        def apply(tile: Tile2, c: Int): Tile2 = ???\n",
    "    }\n",
    "\n",
    "    trait LocalDivideMethods extends MethodExtensions[Tile2] {\n",
    "        def /(other: Tile2): Tile2 = LocalDivide(self, other)\n",
    "        def /(c: Int): Tile2 = LocalDivide(self, c)\n",
    "    }\n",
    "\n",
    "    implicit class withLocalOperationMethods(val self: Tile2) extends MethodExtensions[Tile2]\n",
    "        with LocalAddMethods\n",
    "        with LocalSubtractMethods\n",
    "        with LocalMultiplyMethods\n",
    "        with LocalDivideMethods\n",
    "}\n",
    "\n",
    "def foo: Tile2 = {\n",
    "    import LocalOperations._\n",
    "\n",
    "    val tile1: Tile2 = ???\n",
    "    val tile2: Tile2 = ???\n",
    "\n",
    "   (tile1 - tile2) /  (tile1 + tile2)\n",
    "}\n",
    "\n",
    "Unit"
   ]
  },
  {
   "cell_type": "markdown",
   "metadata": {},
   "source": [
    "- Пример 1 [raster/src/main/scala/geotrellis/raster/mapalgebra/local/Add.scala](https://github.com/locationtech/geotrellis/blob/a00c35b928e96083188d91734252d66574e3b4a7/raster/src/main/scala/geotrellis/raster/mapalgebra/local/Add.scala)...\n",
    "- Пример 2 [raster/src/main/scala/geotrellis/raster/mapalgebra/local/LocalMethods.scala](https://github.com/locationtech/geotrellis/blob/a00c35b928e96083188d91734252d66574e3b4a7/raster/src/main/scala/geotrellis/raster/mapalgebra/local/LocalMethods.scala#L24)...\n",
    "- Пример 3 [raster/src/main/scala/geotrellis/raster/package.scala](https://github.com/locationtech/geotrellis/blob/a00c35b928e96083188d91734252d66574e3b4a7/raster/src/main/scala/geotrellis/raster/package.scala#L53-L78):\n",
    "\n",
    "```scala\n",
    "package object raster {\n",
    "  // ...\n",
    "  \n",
    "  implicit class withTileMethods(val self: Tile) extends MethodExtensions[Tile]\n",
    "      with DelayedConversionTileMethods\n",
    "      with costdistance.CostDistanceMethods\n",
    "      with crop.SinglebandTileCropMethods\n",
    "      with equalization.SinglebandEqualizationMethods\n",
    "      with hydrology.HydrologyMethods\n",
    "      with mapalgebra.focal.FocalMethods\n",
    "      with mapalgebra.focal.hillshade.HillshadeMethods\n",
    "      with mapalgebra.local.LocalMethods\n",
    "      with mapalgebra.zonal.ZonalMethods\n",
    "      with mask.SinglebandTileMaskMethods\n",
    "      with matching.SinglebandMatchingMethods\n",
    "      with merge.SinglebandTileMergeMethods\n",
    "      with prototype.SinglebandTilePrototypeMethods\n",
    "      with regiongroup.RegionGroupMethods\n",
    "      with render.ColorMethods\n",
    "      with render.JpgRenderMethods\n",
    "      with render.PngRenderMethods\n",
    "      with reproject.SinglebandTileReprojectMethods\n",
    "      with resample.SinglebandTileResampleMethods\n",
    "      with sigmoidal.SinglebandSigmoidalMethods\n",
    "      with split.SinglebandTileSplitMethods\n",
    "      with summary.polygonal.PolygonalSummaryMethods\n",
    "      with summary.SinglebandTileSummaryMethods\n",
    "      with vectorize.VectorizeMethods\n",
    "      with viewshed.ViewshedMethods\n",
    "      \n",
    "    // ...\n",
    "}\n",
    "```\n",
    "\n",
    "`Tile` это основной тип поверх которого есть огромное количество функционала. \n",
    "И еще примеры (Mask):\n",
    "\n",
    "- Пример 1 [spark/src/main/scala/geotrellis/spark/mask/Mask.scala](https://github.com/locationtech/geotrellis/blob/v1.0.0/spark/src/main/scala/geotrellis/spark/mask/Mask.scala)...\n",
    "- Пример 2 (RDD) [spark/src/main/scala/geotrellis/spark/mask/TileRDDMaskMethods.scala](https://github.com/locationtech/geotrellis/blob/v1.0.0/spark/src/main/scala/geotrellis/spark/mask/TileRDDMaskMethods.scala)...\n",
    "- Пример 3 (класс жирный имплисит) [spark/src/main/scala/geotrellis/spark/mask/Implicits.scala](https://github.com/locationtech/geotrellis/blob/v1.0.0/spark/src/main/scala/geotrellis/spark/mask/Implicits.scala)\n",
    "- Который можно импортить или так `import geotrellis.spark.mask.Implicits._`, или так `geotrellis.spark._`; потому что пекедж оджект spark наследует трейт `Implicits` как видно тут [spark/src/main/scala/geotrellis/spark/package.scala](https://github.com/locationtech/geotrellis/blob/v1.0.0/spark/src/main/scala/geotrellis/spark/package.scala#L51) "
   ]
  },
  {
   "cell_type": "markdown",
   "metadata": {},
   "source": [
    "### Параметры в функция, дефолтные, перегрузки, и т.п.\n",
    "\n",
    "### Проблематика\n",
    "\n",
    "Иногда необходимо, чтобы было или множество перегрузок apply метода, решив таким образом проблему дефолтных параметров.\n",
    "К примеру рассмотрим `S3LayerWriter`, объект, который позволяет писать RDD растров на S3. Для этого, в качестве аргумента требуется `AttributeStore` с метаданными тайлов.\n",
    "Упрощенная сигнатура выглядит так:\n",
    "\n",
    "```scala\n",
    "case class AttributeStore(bucket: String, prefix: String)\n",
    "```\n",
    "\n",
    "`S3LayerWriter` так же, помимо AttributeStore, также нуждается во флагах `clobber` и `oneToOne`(переапись всего слоя, или перезапись при совпадении индекса одного из тайлов). Упрощенная сигнатура выглядеть может так:\n",
    "\n",
    "```scala\n",
    "class S3LayerWriter(attributeStore: AttributeStore, clobber: Boolean, oneToOne: Boolean) {\n",
    "  def write(): Unit = println(s\"S3LayerWriter $attributeStore $clobber $oneToOne\")\n",
    "}\n",
    "```\n",
    "\n",
    "Объект компаньон:\n",
    "\n",
    "```scala\n",
    "object S3LayerWriter {\n",
    "  def apply(attributeStore: AttributeStore, clobber: Boolean, oneToOne: Boolean): S3LayerWriter =\n",
    "    new S3LayerWriter(attributeStore, clobber, oneToOne)\n",
    "}\n",
    "```\n",
    "\n",
    "Дефолтные параметры:\n",
    "\n",
    "```scala\n",
    "object S3LayerWriter {\n",
    "  def apply(\n",
    "    attributeStore: AttributeStore, \n",
    "    clobber: Boolean = true, \n",
    "    oneToOne: Boolean = false\n",
    "  ): S3LayerWriter =\n",
    "    new S3LayerWriter(attributeStore, clobber, oneToOne)\n",
    "}\n",
    "```\n",
    "\n",
    "Немного полезных перегрузок:\n",
    "\n",
    "```scala\n",
    "object S3LayerWriter {\n",
    "  def apply(\n",
    "    attributeStore: AttributeStore, \n",
    "    clobber: Boolean = true, \n",
    "    oneToOne: Boolean = false\n",
    "  ): S3LayerWriter =\n",
    "    new S3LayerWriter(attributeStore, clobber, oneToOne)\n",
    "\n",
    "  def apply(\n",
    "    bucket: String, \n",
    "    prefix: String, \n",
    "    clobber: Boolean = true, \n",
    "    oneToOne: Boolean = false\n",
    "  ): S3LayerWriter =\n",
    "    apply(AttributeStore(bucket, prefix), clobber, oneToOne)\n",
    "}\n",
    "```\n",
    "\n",
    "Ok, так делать нельзя; почему?\n",
    "\n",
    "### Перегрузки и дефолтные параметры\n",
    "\n",
    "Иногда это может скомпилироваться, однако если начать собирать это в готовый джарник, возникнут проблемы уже точно.\n",
    "\n",
    "```console\n",
    "Multiple overloaded alternatives of method define default arguments\n",
    "```\n",
    "\n",
    "Так делать [нельзя](http://stackoverflow.com/questions/4652095/why-does-the-scala-compiler-disallow-overloaded-methods-with-default-arguments). Такова особенность реализации языка.\n",
    "\n",
    "### Решение\n",
    "\n",
    "Можно просто делать много перегрузок:\n",
    "\n",
    "```scala\n",
    "object S3LayerWriter {\n",
    "  def apply(attributeStore: AttributeStore, clobber: Boolean, oneToOne: Boolean): S3LayerWriter =\n",
    "    new S3LayerWriter(attributeStore, clobber, oneToOne)\n",
    "\n",
    "  def apply(attributeStore: AttributeStore, clobber: Boolean): S3LayerWriter =\n",
    "    apply(attributeStore, true, false)\n",
    "\n",
    "  def apply(attributeStore: AttributeStore): S3LayerWriter =\n",
    "    apply(attributeStore, true)\n",
    "\n",
    "  def apply(bucket: String, prefix: String, clobber: Boolean, oneToOne: Boolean): S3LayerWriter =\n",
    "    apply(AttributeStore(bucket, prefix), clobber, oneToOne)\n",
    "\n",
    "  def apply(bucket: String, prefix: String, clobber: Boolean): S3LayerWriter =\n",
    "    apply(AttributeStore(bucket, prefix), clobber, false)\n",
    "\n",
    "  def apply(bucket: String, prefix: String): S3LayerWriter =\n",
    "    apply(AttributeStore(bucket, prefix), true, false)\n",
    "}\n",
    "```\n",
    "\n",
    "\n",
    "Или создать класс Options:\n",
    "\n",
    "```scala\n",
    "object S3LayerWriter {\n",
    "  case class Options(clobber: Boolean = true, oneToOne: Boolean = false)\n",
    "  object Options {\n",
    "    def DEFAULT = Options()\n",
    "  }\n",
    "\n",
    "  def apply(attributeStore: AttributeStore, options: Options): S3LayerWriter =\n",
    "    new S3LayerWriter(attributeStore, clobber, oneToOne)\n",
    "\n",
    "  def apply(attributeStore: AttributeStore): S3LayerWriter =\n",
    "    apply(attributeStore, Options.DEFAULT)\n",
    "\n",
    "  def apply(bucket: String, prefix: String, options: Options): S3LayerWriter =\n",
    "    apply(AttributeStore(bucket, prefix), options)\n",
    "\n",
    "  def apply(bucket: String, prefix: String, clobber: Boolean): S3LayerWriter =\n",
    "    apply(bucket, prefix, Options.DEFAULT)\n",
    "}\n",
    "```\n",
    "\n",
    "Так и сделано у нас [spark/src/main/scala/geotrellis/spark/mask/Mask.scala](https://github.com/locationtech/geotrellis/blob/v1.0.0/spark/src/main/scala/geotrellis/spark/mask/Mask.scala#L39-L47)"
   ]
  },
  {
   "cell_type": "markdown",
   "metadata": {},
   "source": [
    "# Типы\n",
    "\n",
    "__Тайп Классы__ и использование __Context Bounds__"
   ]
  },
  {
   "cell_type": "markdown",
   "metadata": {
    "collapsed": true
   },
   "source": [
    "### Context Bounds\n",
    "\n",
    "Это синтаксический сахар, следующей конструкции:"
   ]
  },
  {
   "cell_type": "code",
   "execution_count": 32,
   "metadata": {
    "collapsed": false
   },
   "outputs": [],
   "source": [
    "def sort[T](x: Seq[T])(implicit ord: Ordering[T]): Seq[T] =\n",
    "    x.sorted"
   ]
  },
  {
   "cell_type": "markdown",
   "metadata": {},
   "source": [
    "="
   ]
  },
  {
   "cell_type": "code",
   "execution_count": 34,
   "metadata": {
    "collapsed": true
   },
   "outputs": [],
   "source": [
    "def sort2[T: Ordering](x: Seq[T]): Seq[T] =\n",
    "    x.sorted"
   ]
  },
  {
   "cell_type": "markdown",
   "metadata": {},
   "source": [
    "Два метода выше, фактически, компилируются в одно и тоже."
   ]
  },
  {
   "cell_type": "code",
   "execution_count": 35,
   "metadata": {
    "collapsed": false
   },
   "outputs": [
    {
     "data": {
      "text/plain": [
       "List(Foo(1), Foo(1), Foo(2), Foo(2), Foo(3), Foo(3))"
      ]
     },
     "execution_count": 35,
     "metadata": {},
     "output_type": "execute_result"
    }
   ],
   "source": [
    "case class Foo(x: Int)\n",
    "\n",
    "implicit def ord: Ordering[Foo] = Ordering.by(_.x)\n",
    "\n",
    "val foos = List(3, 1, 2).map(Foo.apply)\n",
    "sort2(sort(foos) ++ foos)"
   ]
  },
  {
   "cell_type": "markdown",
   "metadata": {},
   "source": [
    "Пример использования \n",
    "[spark/src/main/scala/geotrellis/spark/io/LayerReader.scala](https://github.com/locationtech/geotrellis/blob/v1.0.0/spark/src/main/scala/geotrellis/spark/io/LayerReader.scala):\n",
    "\n",
    "```scala\n",
    "trait LayerReader[ID] {\n",
    "    // ...\n",
    "    \n",
    "    def read[\n",
    "        K: AvroRecordCodec: Boundable: JsonFormat: ClassTag,\n",
    "        V: AvroRecordCodec: ClassTag,\n",
    "        M: JsonFormat: GetComponent[?, Bounds[K]]\n",
    "      ](id: ID, numPartitions: Int): RDD[(K, V)] with Metadata[M]\n",
    "      \n",
    "    // ...\n",
    "}\n",
    "```\n",
    "\n",
    "Тоже самое, без ContextBounds\n",
    "```scala\n",
    "trait LayerReader[ID] {\n",
    "    // ...\n",
    "    \n",
    "    def read[K, V, M](id: ID, numPartitions: Int)(\n",
    "      implicit ev1: AvroRecordCodec[K], ev2: Boundable[K], ev3: JsFormat[K], ev4: ClassTag[K],\n",
    "      ev5: AvroRecordCodec[V], ev6: ClassTag[V],\n",
    "      ev7: JsonFormat[M], ev8: GetComponent[M, Bounds[K]]\n",
    "    ): RDD[(K, V)] with Metadata[M]\n",
    "      \n",
    "    // ...\n",
    "}\n",
    "```\n",
    "\n",
    "Первый вариант более читабельный, и чуть позже скажу почему\n",
    "\n",
    "### Type Lambdas и Kind Projector\n",
    "\n",
    "Выше был `GetComponent[?, Bounds[K]]`, в примере с использованием ContextBounds. Этот ? из KindProjector'a:\n",
    "\n",
    "[util/src/main/scala/geotrellis/util/GetComponent.scala](https://github.com/locationtech/geotrellis/blob/v1.0.0/util/src/main/scala/geotrellis/util/GetComponent.scala)\n",
    "```scala\n",
    "trait GetComponent[T, C] extends Serializable {\n",
    "  def get: T => C\n",
    "}\n",
    "\n",
    "object GetComponent {\n",
    "  def apply[T, C](_get: T => C): GetComponent[T, C] =\n",
    "    new GetComponent[T, C] {\n",
    "      val get = _get\n",
    "    }\n",
    "}\n",
    "```\n",
    "`GetComponent` это линза, похожая на то, что реализовано в [Monocle](https://julien-truffaut.github.io/Monocle/). Позволяет получить объект типа `C` тз объекта типа `T`."
   ]
  },
  {
   "cell_type": "code",
   "execution_count": 36,
   "metadata": {
    "collapsed": false
   },
   "outputs": [],
   "source": [
    "import geotrellis.util.GetComponent\n",
    "import geotrellis.spark.Bounds\n",
    "\n",
    "def foo[M, K](metadata: M)(implicit gc: GetComponent[M, Bounds[K]]): Bounds[K] = \n",
    "    gc.get(metadata)"
   ]
  },
  {
   "cell_type": "markdown",
   "metadata": {},
   "source": [
    "Что можно переписать так:"
   ]
  },
  {
   "cell_type": "code",
   "execution_count": 37,
   "metadata": {
    "collapsed": false
   },
   "outputs": [],
   "source": [
    "def foo[M: ({ type B[X] = GetComponent[X, Bounds[K]] })#B, K](metadata: M): Bounds[K] = \n",
    "    implicitly[GetComponent[M, Bounds[K]]].get(metadata)"
   ]
  },
  {
   "cell_type": "markdown",
   "metadata": {},
   "source": [
    "Используя KindProjector:\n",
    "\n",
    "```scala\n",
    "def foo[M: GetComponent[?, Bounds[K]], K](metadata: M): Bounds[K] = \n",
    "    implicitly[GetComponent[M, Bounds[K]]].get(metadata)\n",
    "```\n",
    "\n",
    "(не компилится Toree, т.е. не поддерживает KindProjector ):)"
   ]
  },
  {
   "cell_type": "markdown",
   "metadata": {},
   "source": [
    "### Guiding Principle: Never ask for more than you need\n",
    "\n",
    "#### or, \"Don't over-concretize\" - Michael Pilquist\n",
    "\n",
    "\n",
    "```scala\n",
    "trait LayerReader[ID] {\n",
    "    // ..\n",
    "    \n",
    "    def read[\n",
    "        K: AvroRecordCodec: Boundable: JsonFormat: ClassTag,\n",
    "        V: AvroRecordCodec: ClassTag,\n",
    "        M: JsonFormat: GetComponent[?, Bounds[K]]\n",
    "      ](id: ID, numPartitions: Int): RDD[(K, V)] with Metadata[M]\n",
    "      \n",
    "    // ...\n",
    "}\n",
    "```\n",
    "\n",
    "На самом деле только кажется громоздко, на самом деле наоборот, в некоторым смысле даже упрощает понимание свойств, которыми должны обладать типы.\n"
   ]
  },
  {
   "cell_type": "markdown",
   "metadata": {},
   "source": [
    "### Method Extensions и Context Bounds"
   ]
  },
  {
   "cell_type": "markdown",
   "metadata": {
    "collapsed": true
   },
   "source": [
    "![metaism comment](http://i.imgur.com/lDcKvYv.png)"
   ]
  },
  {
   "cell_type": "markdown",
   "metadata": {},
   "source": [
    "[spark/src/main/scala/geotrellis/spark/split/Split.scala](https://github.com/locationtech/geotrellis/blob/v1.0.0/spark/src/main/scala/geotrellis/spark/split/Split.scala):\n",
    "\n",
    "```scala\n",
    "object Split {\n",
    "  /** Splits an RDD of tiles into tiles of size (tileCols x tileRows), and updates the ProjectedExtent component of the keys.\n",
    "    */\n",
    "  def apply[K: Component[?, ProjectedExtent], V <: CellGrid: (? => SplitMethods[V])](\n",
    "      rdd: RDD[(K, V)], tileCols: Int, tileRows: Int\n",
    "  ): RDD[(K, V)] =\n",
    "    rdd\n",
    "      .flatMap { case (key, tile) =>\n",
    "        val splitLayout =\n",
    "          TileLayout(\n",
    "            math.ceil(tile.cols / tileCols.toDouble).toInt,\n",
    "            math.ceil(tile.rows / tileRows.toDouble).toInt,\n",
    "            tileCols,\n",
    "            tileRows\n",
    "          )\n",
    "\n",
    "        if(!splitLayout.isTiled) {\n",
    "          Array((key, tile))\n",
    "        } else {\n",
    "          val ProjectedExtent(extent, crs) = key.getComponent[ProjectedExtent]\n",
    "          Raster(tile, extent).split(splitLayout, Options(extend = false, cropped = false))\n",
    "            .map { raster => (key.setComponent(ProjectedExtent(raster.extent, crs)), raster.tile) }\n",
    "        }\n",
    "      }\n",
    "}\n",
    "```\n",
    "\n",
    "[raster/src/main/scala/geotrellis/raster/split/RasterSplitMethods.scala](https://github.com/locationtech/geotrellis/blob/v1.0.0/raster/src/main/scala/geotrellis/raster/split/RasterSplitMethods.scala):\n",
    "\n",
    "```scala\n",
    "abstract class RasterSplitMethods[T <: CellGrid: (? => SplitMethods[T])] extends SplitMethods[Raster[T]] {\n",
    "  def split(tileLayout: TileLayout, options: Options): Array[Raster[T]] =\n",
    "    self.rasterExtent.split(tileLayout, options)\n",
    "      .zip(self.tile.split(tileLayout, options))\n",
    "      .map { case (re, tile) => Raster(tile, re.extent) }\n",
    "}\n",
    "```\n",
    "\n",
    "[spark/src/main/scala/geotrellis/spark/filter/ToSpatial.scala](https://github.com/fosskers/geotrellis/blob/1.0/spark/src/main/scala/geotrellis/spark/filter/ToSpatial.scala):\n",
    "\n",
    "```scala\n",
    "def apply[\n",
    "  K: SpatialComponent: TemporalComponent: λ[α => M[α] => Functor[M, α]]: λ[α => Component[M[α], Bounds[α]]],\n",
    "  V,\n",
    "  M[_]\n",
    "](rdd: RDD[(K, V)] with Metadata[M[K]], instant: Long): RDD[(SpatialKey, V)] with Metadata[M[SpatialKey]] = ...\n",
    "```\n"
   ]
  },
  {
   "cell_type": "code",
   "execution_count": null,
   "metadata": {
    "collapsed": true
   },
   "outputs": [],
   "source": []
  }
 ],
 "metadata": {
  "kernelspec": {
   "display_name": "Apache Toree - Scala",
   "language": "scala",
   "name": "apache_toree_scala"
  },
  "language_info": {
   "file_extension": ".scala",
   "name": "scala",
   "version": "2.11.8"
  }
 },
 "nbformat": 4,
 "nbformat_minor": 2
}
